{
 "cells": [
  {
   "cell_type": "markdown",
   "metadata": {},
   "source": [
    "# Coverage Guided Fuzzer\n",
    "### Smarter way to create fuzzed input for python program\n",
    "\n",
    "#### Steps to create the fuzzer\n",
    "\n",
    "1. We maintain a population (i.e., a list of seeds) that we use for mutation. Each seed in the population will be an input that provide additional coverage information.\n",
    "2. We will take a seed from the population and fuzz the seed to test the program. If the population is empty, we mutate an initial seed that we provide manually.\n",
    "3. We take the seed from the population semi-randomly, but the seeds that provided more additional coverage have a higher chance of being selected.\n",
    "4. If the new input increased the coverage, we add this new input to the population as a new seed. We assign a score to the seed (i.e., how much coverage it improved).\n",
    "5. We repeat and go back to Step 2 until we execute your fuzzer _50_ times (i.e., your pre-defined number of trials).\n",
    "\n",
    "#### Testing the fuzzer\n",
    "\n",
    "+  We run our fuzzer on 3 Python programs\n",
    "    - program 1 and reason for choice\n",
    "    - program 2 and reason for choice\n",
    "    - program 3 and reason for choice\n",
    "+ Evaluate the programs on different fuzzing approaches and on the fuzzer we wrote\n",
    "+ We discuss and compare each fuzzing approach in terms of coverage.\n",
    "+ We plot how the coverage increases for the inputs that we tried.\n",
    "+ We also record any bug found in our program.\n"
   ]
  },
  {
   "cell_type": "code",
   "execution_count": null,
   "metadata": {},
   "outputs": [],
   "source": []
  }
 ],
 "metadata": {
  "kernelspec": {
   "display_name": "Python 3",
   "language": "python",
   "name": "python3"
  },
  "language_info": {
   "codemirror_mode": {
    "name": "ipython",
    "version": 3
   },
   "file_extension": ".py",
   "mimetype": "text/x-python",
   "name": "python",
   "nbconvert_exporter": "python",
   "pygments_lexer": "ipython3",
   "version": "3.7.3"
  }
 },
 "nbformat": 4,
 "nbformat_minor": 2
}
